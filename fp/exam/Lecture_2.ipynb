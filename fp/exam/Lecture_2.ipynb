{
 "cells": [
  {
   "cell_type": "markdown",
   "id": "7548ca6c-cadf-4469-9a2e-208343c6e1c4",
   "metadata": {
    "tags": []
   },
   "source": [
    "# Lecture 2: Basic Syntax\n",
    "\n",
    "\n",
    "- Introduction to Haskell\n",
    "    - Basic GHCi examples\n",
    "    - Function & operators definition\n",
    "    - Lists and functions on lists\n",
    "- Haskell syntax\n",
    "    - **let** (variable declaration)\n",
    "    - **where** clause\n",
    "    - **if** expression\n",
    "    - Guards\n",
    "    - **case** expression\n",
    "    - Higher order functions\n",
    "    - Lambdas (anonymous functions)\n",
    "- Polymoprhism\n",
    "    - Parametric\n",
    "    - Ad-hoc\n",
    "- LANGUAGE pragmas\n",
    "    - *[XTupleSections](https://downloads.haskell.org/~ghc/latest/docs/html/users_guide/glasgow_exts.html#tuple-sections)*\n",
    "    - *[XLambdaCase](https://downloads.haskell.org/~ghc/latest/docs/html/users_guide/glasgow_exts.html#lambda-case)*\n",
    "    - *[XViewPatterns](https://downloads.haskell.org/~ghc/latest/docs/html/users_guide/glasgow_exts.html#view-patterns)*\n",
    "- Currying (aka partial application)\n",
    "- Pattern matching\n",
    "- List comprehension\n",
    "- Function application: (*`[$](https://hackage.haskell.org/package/base/docs/Prelude.html#v:-36-)`*)\n",
    "- Function composition: (*`[.](https://hackage.haskell.org/package/base/docs/Prelude.html#v:.)`*)\n",
    "- Lazy evaluation (erathosphene sieve, fibonacci numbers, repmin)"
   ]
  },
  {
   "cell_type": "markdown",
   "id": "bbd19152-70d0-45e6-9256-37a9981ba587",
   "metadata": {},
   "source": [
    "Presentation: http://slides.com/fp-ctd/lecture-2#/"
   ]
  },
  {
   "cell_type": "markdown",
   "id": "a57a5558-5c42-4949-996a-004ad8ac5597",
   "metadata": {
    "tags": []
   },
   "source": [
    "## Introduction to Haskell"
   ]
  },
  {
   "cell_type": "markdown",
   "id": "49e2cecc-c817-4413-9972-6df99bf66859",
   "metadata": {
    "jp-MarkdownHeadingCollapsed": true,
    "tags": []
   },
   "source": [
    "### Haskell features\n",
    "\n",
    "- Static types\n",
    "    - типы проверяються на этапе комп\n",
    "- Immutability\n",
    "    - неизменяемые переменные\n",
    "- Purity \n",
    "    - на тех же входных данных те же выходные\n",
    "- Non - null\n",
    "    - нет нула\n",
    "- Lazy evaluation\n",
    "    - не вычесляем все и сразу (к примеру не вычесляем тэйл листа)\n",
    "    \n",
    "    \n",
    "Haskell is layout-sensitive language.\n",
    "It means that ugly code won't compile.\n"
   ]
  },
  {
   "cell_type": "markdown",
   "id": "de81eee4-ae7c-480a-8ab9-dbd92ec193c8",
   "metadata": {},
   "source": [
    "### Basic GHCi examples\n",
    "\n",
    "Стандартные функции + - и т.д.\n",
    "\n",
    "Заметим что можем писать операторы как инфиксно так и префиксно.\n",
    "- (+) 1 2\n",
    "- 1 + 2\n",
    "- 1 `mod` 2\n",
    "- mod 1 2\n",
    "\n",
    "Можем объявлять переменную как let, так и просто написав \"а = ...\"\n",
    "\n",
    "Можем посмотреть тип через :t"
   ]
  },
  {
   "cell_type": "markdown",
   "id": "bf3c74b4-0c34-4a3d-9851-39dbb911101e",
   "metadata": {},
   "source": [
    "### Function & operators definition\n",
    "\n",
    "Можем задавать свои фунуции формата:\n",
    "\n",
    "**name :: type -> type -> ...**\n",
    "\n",
    "Можем задавать свои операторы [infix|infixl|infixr]\n",
    "\n",
    "**infix operator_name operator_priority**\n",
    "- operator name : !#$%&*+./<=>?@\\^|-~:\n",
    "- operator priority : (low)0 - 9(hi)\n",
    "\n",
    "\n",
    "Ассоциативность: \n",
    "- infixl : a o b o c d = (((a o b) o c) o d)\n",
    "- infixr : a o b o c d = (a o (b o (c o d)))\n",
    "- infix  : a o b o c d = Comp err"
   ]
  },
  {
   "cell_type": "markdown",
   "id": "de96b14d-31e6-4576-ae0e-97886c755108",
   "metadata": {
    "tags": []
   },
   "source": [
    "### Lists and functions on lists\n",
    "\n",
    "Лист - очень важная штука.\n",
    "Лежит как **head : tail**\n",
    "\n",
    "Пустой список имеет тип, поэтому [Int] != [String]\n",
    "\n",
    "Можем\n",
    "- **++** - конкатинация\n",
    "- **:** - стандартный оператор разделения\n",
    "\n",
    "### Functions\n",
    "\n",
    "```\n",
    "ghci> let l = [2, 1, 3]\n",
    "ghci> head l\n",
    "2\n",
    "ghci> tail l\n",
    "[1, 3]\n",
    "ghci> last l\n",
    "3\n",
    "ghci> init l\n",
    "[2, 1]\n",
    "\n",
    "ghci> drop 2 [2, 1, 3]\n",
    "[3]\n",
    "ghci> [2, 1, 3] !! 2  -- l !! i ≡ l[i], O(i) time\n",
    "3\n",
    "ghci> take 1 [2, 1, 3]\n",
    "[2]\n",
    "ghci> replicate 3 [1..5]\n",
    "[[1,2,3,4,5], [1,2,3,4,5], [1,2,3,4,5]]\n",
    "ghci> zip [1,2,3] \"abc\"\n",
    "[(1, 'a'), (2, 'b'), (3, 'c')]  -- (1, 'a') is pair of type (Int, Char)\n",
    "ghci> unzip [(5, True), (10, False)]\n",
    "([5, 10], [True, False])\n",
    "ghci> words \"Hello,    Haskell  \\t\\n\\n   world!\"\n",
    "[\"Hello,\", \"Haskell\", \"world!\"]\n",
    "ghci> unwords [\"Hello,\", \"Haskell\", \"world!\"]\n",
    "\"Hello, Haskell world!\"\n",
    "```\n",
    "\n",
    "Functions from Prelude\n",
    "And moar: takeWhile, splitAt, iterate, reverse, lines, unlines, etc. Prelude has a lot of functions and operators to work with lists.\n",
    "\n",
    "#### Range\n",
    "\n",
    "range есть range, но с фишечкой\n",
    "\n",
    "```\n",
    "[0 .. 5]     -- [0, 1, 2, 3, 4, 5]\n",
    "[1, 3 .. 5]  -- [1, 3, 5, 7]\n",
    "[0..]        -- [0, 1, 2, 3, ...] : infinite list\n",
    "[0, 2 ..]    -- [0, 2, 4, 6, ...] : all even numbers\n",
    "[5, 4 .. 1]  -- [5, 4, 3, 2, 1]\n",
    "[5 .. 1]     -- [] — empty list\n",
    "```"
   ]
  },
  {
   "cell_type": "markdown",
   "id": "789eacac-1551-4ef3-a1c2-31d1e426ca29",
   "metadata": {
    "tags": []
   },
   "source": [
    "## Haskell syntax\n",
    "\n",
    "if expression\n",
    "Guards\n",
    "case expression\n",
    "Higher order functions\n",
    "Lambdas (anonymous functions)"
   ]
  },
  {
   "cell_type": "markdown",
   "id": "1be22b01-6ab9-4661-8346-11fa26e59a8b",
   "metadata": {
    "jp-MarkdownHeadingCollapsed": true,
    "tags": []
   },
   "source": [
    "### **let** (variable declaration)\n",
    "\n",
    "Можем задать let просто в программе, тогда будет просто переменная\n",
    "\n",
    "Также можем задавать локальные переменные: **let name in expr** \n",
    "\n",
    "Локальные будут перекрывать глобальные\n",
    "\n",
    "```\n",
    "pythagoras :: Int -> Int -> Int\n",
    "pythagoras x y = let x2 = x ^ 2  -- Alignment is EXTREMELY IMPORTANT!!!\n",
    "                     y2 = y ^ 2  -- No tabs, only spaces!\n",
    "                 in x2 + y2\n",
    "```"
   ]
  },
  {
   "cell_type": "markdown",
   "id": "254dcd90-84ac-4028-b803-838b159b5d2f",
   "metadata": {},
   "source": [
    "### **where** clause\n",
    "\n",
    "поход на **let**, однока есть отличия\n",
    "в отличии от let не являеться полноценным экспрешном. Скорее биндинг с паттернмачингом\n",
    "\n",
    "```\n",
    "pythagoras :: Double -> Double -> Double\n",
    "pythagoras a b = a2 + b2\n",
    "  where  -- details of implementation are inside 'where'\n",
    "    square x = x ^ 2\n",
    "    a2       = square a\n",
    "    b2       = square b\n",
    "```"
   ]
  },
  {
   "cell_type": "markdown",
   "id": "80b66def-7e4e-4365-a4c5-db208e48e38e",
   "metadata": {},
   "source": [
    "### **if** expression\n",
    "\n",
    "Являеться полноценным экспрешеном\n",
    "\n",
    "**if bool then [true clause] else [false clause]**\n",
    "\n",
    "Всегда имеет **else** \n",
    "\n",
    "Похож на тернарный оператор"
   ]
  },
  {
   "cell_type": "markdown",
   "id": "83009b69-7ed3-4865-81bf-d4aa2b4e5348",
   "metadata": {},
   "source": [
    "### Guards\n",
    "\n",
    "Проходится по предикатам\n",
    "\n",
    "**otherwise** == True\n",
    "\n",
    "```\n",
    "collatzSum :: Natural -> Natural\n",
    "collatzSum n\n",
    "    | n == 1    = 1\n",
    "    | even n    = n + collatzSum (n `div` 2)\n",
    "    | otherwise = n + collatzSum (3 * n + 1)\n",
    "```"
   ]
  },
  {
   "cell_type": "markdown",
   "id": "a633cc95-a62f-4382-8837-aa7bf0937816",
   "metadata": {},
   "source": [
    "### **case** expression\n",
    "\n",
    "если захотелось попаттернматчиться\n",
    "паттернматчинг за счет алгебраических типов данных\n",
    "\n",
    "```\n",
    "case <expression> of\n",
    "         [<pattern> → <expression>]\n",
    "```\n"
   ]
  },
  {
   "cell_type": "markdown",
   "id": "7f9a6445-afb0-4379-a24a-4bfc2e30cb1e",
   "metadata": {},
   "source": [
    "### Higher order functions\n",
    "\n",
    "функция - правомерный тип\n",
    "\n",
    "можем передавать функции в функцию и возврашать функции"
   ]
  },
  {
   "cell_type": "markdown",
   "id": "cc426b15-7845-466c-afbc-043c2cac3054",
   "metadata": {},
   "source": [
    "### Lambdas (anonymous functions)\n",
    "\n",
    "те же функции\n",
    "\n",
    "**(\\arguments -> body)**\n"
   ]
  },
  {
   "cell_type": "markdown",
   "id": "84c89696-1c59-4e0a-9498-6ce40e18f779",
   "metadata": {},
   "source": [
    "## Polymoprhism\n",
    "\n",
    "хаскель имеет два вида полиморфизма\n"
   ]
  },
  {
   "cell_type": "markdown",
   "id": "ea926655-7f80-43f4-b8b5-6f7a0da40a72",
   "metadata": {},
   "source": [
    "### Parametric\n",
    "\n",
    "можем исполнить тот же код на различных типах"
   ]
  },
  {
   "cell_type": "markdown",
   "id": "fd3ac0e6-b8cc-4038-bc77-06c40f24c300",
   "metadata": {},
   "source": [
    "### Ad-hoc\n",
    "\n",
    "условный overloading"
   ]
  },
  {
   "cell_type": "markdown",
   "id": "f12379c2-33b3-4202-ac2b-6024fd23aeb8",
   "metadata": {
    "tags": []
   },
   "source": [
    "## LANGUAGE pragmas\n",
    "\n",
    "не все фишки хаскеля подключены изначально\n"
   ]
  },
  {
   "cell_type": "markdown",
   "id": "860de73d-0827-4f37-a512-37afaac45eb5",
   "metadata": {},
   "source": [
    "### XTupleSections\n",
    "\n",
    "позваляет частично примянять конструктор пары"
   ]
  },
  {
   "cell_type": "markdown",
   "id": "984a9e16-05c3-41e9-8b5d-122f8e2c54d9",
   "metadata": {},
   "source": [
    "### XLambdaCase\n",
    "\n",
    "позваляет удобней пользоваться кейсрм. По факту кейс в лямбде\n",
    "(/x -> case ...) -> /case ...."
   ]
  },
  {
   "cell_type": "markdown",
   "id": "dcd747d3-5ae1-4f86-9530-8d7542201450",
   "metadata": {},
   "source": [
    "### XViewPatterns\n",
    "\n",
    "позваляет применять функции в паттернматчинге"
   ]
  },
  {
   "cell_type": "markdown",
   "id": "c2168fdb-65d4-40d0-ad24-10a77d55eba2",
   "metadata": {},
   "source": [
    "## Currying (aka partial application)\n",
    "\n",
    "просто можем частично приминять функции, незаданные параметры перенесуться внутрь\n",
    "\n",
    "**->** имеет правую ассоциативность\n",
    "\n",
    "даже оператор можно частично приминять\n",
    "\n",
    "```\n",
    "ghci> map (5+) [1..5]\n",
    "[6, 7, 8, 9, 10]\n",
    "ghci> map (+5) [1..5]\n",
    "[6, 7, 8, 9, 10]\n",
    "```"
   ]
  },
  {
   "cell_type": "markdown",
   "id": "e99922a2-e9a7-4860-a0cd-29be766cdb46",
   "metadata": {},
   "source": [
    "## Pattern matching\n",
    "\n",
    "можем паттерн матчить"
   ]
  },
  {
   "cell_type": "markdown",
   "id": "2189aad4-cf64-499d-aca8-60008056c001",
   "metadata": {},
   "source": [
    "## List comprehension"
   ]
  },
  {
   "cell_type": "markdown",
   "id": "0fe89076-5242-4a8c-985d-f5b70952a0f1",
   "metadata": {},
   "source": [
    "Function application: \\$\n",
    "\n",
    "убираем скобки. По факту скобки до конца строки\n",
    "\n",
    "```\n",
    "infixr 0 $\n",
    "($) :: (a -> b) -> a -> b  -- function application\n",
    "f $ x = f x  \n",
    "```"
   ]
  },
  {
   "cell_type": "markdown",
   "id": "793007dd-a75b-4a38-9a1b-b14d3933edd3",
   "metadata": {},
   "source": [
    "## Function composition: .\n",
    "\n",
    "Комбим функции\n",
    "\n",
    "```\n",
    "infixr 9 .\n",
    "(.) :: (b -> c) -> (a -> b) -> (a -> c)  -- same as (b -> c) -> (a -> b) -> a -> c\n",
    "f . g = \\x -> f (g x)\n",
    "```"
   ]
  },
  {
   "cell_type": "markdown",
   "id": "dc96335d-76f0-43fa-a78d-b601c8d07c3a",
   "metadata": {},
   "source": [
    "## List comprehension\n",
    "\n",
    "генерируем листы\n",
    "\n",
    "```\n",
    "ghci> [x | x <- [1..10], even x]\n",
    "[2,4,6,8,10]\n",
    "ghci> filter even [1..10]\n",
    "[2,4,6,8,10]\n",
    "ghci> [if even x then \"!\" else \"?\" | x <- [1 .. 5]] \n",
    "[\"?\",\"!\",\"?\",\"!\",\"?\"]\n",
    "ghci> [ x * y | x <- [1, 3, 5], y <- [2, 4, 6], x * y >= 10]\n",
    "[12,18,10,20,30]\n",
    "ghci> [13 | even 13]  -- conditionally create singleton list\n",
    "[]\n",
    "ghci> [14 | even 14]\n",
    "[14]\n",
    "\n",
    "quickSort :: [Int] -> [Int]\n",
    "quickSort [] = []\n",
    "quickSort (x:xs) \n",
    "    = quickSort [y | y <- xs, y <= x] ++ [x] ++ quickSort [y | y <- xs, y > x]\n",
    "\n",
    "```\n"
   ]
  },
  {
   "cell_type": "markdown",
   "id": "d606f3e7-4b52-47b7-bc2f-5273024c2d93",
   "metadata": {},
   "source": [
    "## Lazy evaluation (erathosphene sieve, fibonacci numbers, repmin)\n",
    "\n",
    "Если мы не используем выражение - мы его не считаем"
   ]
  },
  {
   "cell_type": "markdown",
   "id": "a09b9871-b8ae-4491-a03f-9f544d4b6750",
   "metadata": {},
   "source": [
    "### NF - normal form\n",
    "\n",
    "все подвыражения заэвалюэйчены"
   ]
  },
  {
   "cell_type": "markdown",
   "id": "d3e1229e-8894-4c45-b4f9-c0cd6cb2ad2c",
   "metadata": {},
   "source": [
    "### WHNF - weak head normal form\n",
    "\n",
    "нужно для паттерматчинга. У нас либо конструктор либо лямбда"
   ]
  },
  {
   "cell_type": "markdown",
   "id": "9f38ffe1-36ee-48bc-a530-803190f4d5c4",
   "metadata": {},
   "source": [
    "### Time & Space\n",
    "\n",
    "- никогда не исполняем(эвалюэйтим) больше чем нужно операций\n",
    "- место занимаемое WHNF может значительно отл от NF\n",
    "    - как в хорошую сторону. К примеру inf списки\n",
    "    - так и в плохую: ((((0 + 1) + 2) + 3) + 4)"
   ]
  },
  {
   "cell_type": "markdown",
   "id": "d2fde328-ea1e-418c-b47f-8b184f9474dd",
   "metadata": {},
   "source": [
    "### примеры\n",
    "\n",
    "Решето Эратосфена\n",
    "\n",
    "```\n",
    "primes :: [Int]\n",
    "primes = filterPrime [2..] \n",
    "  where \n",
    "    filterPrime (p:xs) = p : filterPrime [x | x <- xs, x `mod` p /= 0]\n",
    "```\n",
    "\n",
    "Фибионачи\n",
    "\n",
    "```\n",
    "fibs :: [Int]\n",
    "fibs = 0 : 1 : zipWith (+) fibs (drop 1 fibs)\n",
    "\n",
    "fib :: Int -> Int\n",
    "fib n = fibs !! n\n",
    "```"
   ]
  }
 ],
 "metadata": {
  "kernelspec": {
   "display_name": "Python 3 (ipykernel)",
   "language": "python",
   "name": "python3"
  },
  "language_info": {
   "codemirror_mode": {
    "name": "ipython",
    "version": 3
   },
   "file_extension": ".py",
   "mimetype": "text/x-python",
   "name": "python",
   "nbconvert_exporter": "python",
   "pygments_lexer": "ipython3",
   "version": "3.9.1"
  }
 },
 "nbformat": 4,
 "nbformat_minor": 5
}
