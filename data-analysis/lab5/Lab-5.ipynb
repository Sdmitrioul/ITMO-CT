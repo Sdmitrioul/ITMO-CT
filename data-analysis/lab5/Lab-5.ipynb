{
 "cells": [
  {
   "cell_type": "markdown",
   "metadata": {
    "id": "instant-planning"
   },
   "source": [
    "# Разделимость данных"
   ]
  },
  {
   "cell_type": "markdown",
   "metadata": {
    "id": "reserved-slave"
   },
   "source": [
    "Примените алгоритмы уменьшения размерности к данным из предыдущей лабораторной, объясните полученные результаты\n",
    "\n",
    "1. С помощью любого из рассмотренных на лекциях алгоритмов снижения размерности спроецируйте тренировочные данные в 2d пространство. Визуализируйте результаты снижения размерности. Цветом обозначьте категорию объекта\n",
    "1. Примените алгоритм кластеризации к спроецированным данным. Расчитайте средние внутрикластерное и межкласторное расстояния получившейся проекции\n",
    "1. Опишите результаты "
   ]
  }
 ],
 "metadata": {
  "colab": {
   "name": "Lab-5.ipynb",
   "provenance": []
  },
  "kernelspec": {
   "display_name": "Python 3 (ipykernel)",
   "language": "python",
   "name": "python3"
  },
  "language_info": {
   "codemirror_mode": {
    "name": "ipython",
    "version": 3
   },
   "file_extension": ".py",
   "mimetype": "text/x-python",
   "name": "python",
   "nbconvert_exporter": "python",
   "pygments_lexer": "ipython3",
   "version": "3.9.5"
  }
 },
 "nbformat": 4,
 "nbformat_minor": 5
}
