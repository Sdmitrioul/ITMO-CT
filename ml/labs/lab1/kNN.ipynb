{
 "cells": [
  {
   "cell_type": "code",
   "execution_count": 1,
   "metadata": {
    "collapsed": true,
    "pycharm": {
     "name": "#%%\n"
    }
   },
   "outputs": [],
   "source": [
    "from scipy.io.arff import loadarff\n",
    "\n",
    "import matplotlib.pyplot as plt\n",
    "import pandas as pd\n",
    "import numpy as np\n",
    "\n",
    "from math import sqrt\n",
    "\n",
    "from modules.normalization import min_max_normalization\n",
    "from modules.distance import metrics\n",
    "from modules.kernels import kernels\n",
    "from modules.f_score import f_macro\n",
    "from modules.knn_predictions import calculate_predictions"
   ]
  },
  {
   "cell_type": "code",
   "execution_count": 2,
   "outputs": [
    {
     "data": {
      "text/plain": "    class  Alcohol  Malic_acid   Ash  Alcalinity_of_ash  Magnesium  \\\n0    b'1'    14.23        1.71  2.43               15.6      127.0   \n1    b'1'    13.20        1.78  2.14               11.2      100.0   \n2    b'1'    13.16        2.36  2.67               18.6      101.0   \n3    b'1'    14.37        1.95  2.50               16.8      113.0   \n4    b'1'    13.24        2.59  2.87               21.0      118.0   \n..    ...      ...         ...   ...                ...        ...   \n173  b'3'    13.71        5.65  2.45               20.5       95.0   \n174  b'3'    13.40        3.91  2.48               23.0      102.0   \n175  b'3'    13.27        4.28  2.26               20.0      120.0   \n176  b'3'    13.17        2.59  2.37               20.0      120.0   \n177  b'3'    14.13        4.10  2.74               24.5       96.0   \n\n     Total_phenols  Flavanoids  Nonflavanoid_phenols  Proanthocyanins  \\\n0             2.80        3.06                  0.28             2.29   \n1             2.65        2.76                  0.26             1.28   \n2             2.80        3.24                  0.30             2.81   \n3             3.85        3.49                  0.24             2.18   \n4             2.80        2.69                  0.39             1.82   \n..             ...         ...                   ...              ...   \n173           1.68        0.61                  0.52             1.06   \n174           1.80        0.75                  0.43             1.41   \n175           1.59        0.69                  0.43             1.35   \n176           1.65        0.68                  0.53             1.46   \n177           2.05        0.76                  0.56             1.35   \n\n     Color_intensity   Hue  OD280%2FOD315_of_diluted_wines  Proline  \n0               5.64  1.04                            3.92   1065.0  \n1               4.38  1.05                            3.40   1050.0  \n2               5.68  1.03                            3.17   1185.0  \n3               7.80  0.86                            3.45   1480.0  \n4               4.32  1.04                            2.93    735.0  \n..               ...   ...                             ...      ...  \n173             7.70  0.64                            1.74    740.0  \n174             7.30  0.70                            1.56    750.0  \n175            10.20  0.59                            1.56    835.0  \n176             9.30  0.60                            1.62    840.0  \n177             9.20  0.61                            1.60    560.0  \n\n[178 rows x 14 columns]",
      "text/html": "<div>\n<style scoped>\n    .dataframe tbody tr th:only-of-type {\n        vertical-align: middle;\n    }\n\n    .dataframe tbody tr th {\n        vertical-align: top;\n    }\n\n    .dataframe thead th {\n        text-align: right;\n    }\n</style>\n<table border=\"1\" class=\"dataframe\">\n  <thead>\n    <tr style=\"text-align: right;\">\n      <th></th>\n      <th>class</th>\n      <th>Alcohol</th>\n      <th>Malic_acid</th>\n      <th>Ash</th>\n      <th>Alcalinity_of_ash</th>\n      <th>Magnesium</th>\n      <th>Total_phenols</th>\n      <th>Flavanoids</th>\n      <th>Nonflavanoid_phenols</th>\n      <th>Proanthocyanins</th>\n      <th>Color_intensity</th>\n      <th>Hue</th>\n      <th>OD280%2FOD315_of_diluted_wines</th>\n      <th>Proline</th>\n    </tr>\n  </thead>\n  <tbody>\n    <tr>\n      <th>0</th>\n      <td>b'1'</td>\n      <td>14.23</td>\n      <td>1.71</td>\n      <td>2.43</td>\n      <td>15.6</td>\n      <td>127.0</td>\n      <td>2.80</td>\n      <td>3.06</td>\n      <td>0.28</td>\n      <td>2.29</td>\n      <td>5.64</td>\n      <td>1.04</td>\n      <td>3.92</td>\n      <td>1065.0</td>\n    </tr>\n    <tr>\n      <th>1</th>\n      <td>b'1'</td>\n      <td>13.20</td>\n      <td>1.78</td>\n      <td>2.14</td>\n      <td>11.2</td>\n      <td>100.0</td>\n      <td>2.65</td>\n      <td>2.76</td>\n      <td>0.26</td>\n      <td>1.28</td>\n      <td>4.38</td>\n      <td>1.05</td>\n      <td>3.40</td>\n      <td>1050.0</td>\n    </tr>\n    <tr>\n      <th>2</th>\n      <td>b'1'</td>\n      <td>13.16</td>\n      <td>2.36</td>\n      <td>2.67</td>\n      <td>18.6</td>\n      <td>101.0</td>\n      <td>2.80</td>\n      <td>3.24</td>\n      <td>0.30</td>\n      <td>2.81</td>\n      <td>5.68</td>\n      <td>1.03</td>\n      <td>3.17</td>\n      <td>1185.0</td>\n    </tr>\n    <tr>\n      <th>3</th>\n      <td>b'1'</td>\n      <td>14.37</td>\n      <td>1.95</td>\n      <td>2.50</td>\n      <td>16.8</td>\n      <td>113.0</td>\n      <td>3.85</td>\n      <td>3.49</td>\n      <td>0.24</td>\n      <td>2.18</td>\n      <td>7.80</td>\n      <td>0.86</td>\n      <td>3.45</td>\n      <td>1480.0</td>\n    </tr>\n    <tr>\n      <th>4</th>\n      <td>b'1'</td>\n      <td>13.24</td>\n      <td>2.59</td>\n      <td>2.87</td>\n      <td>21.0</td>\n      <td>118.0</td>\n      <td>2.80</td>\n      <td>2.69</td>\n      <td>0.39</td>\n      <td>1.82</td>\n      <td>4.32</td>\n      <td>1.04</td>\n      <td>2.93</td>\n      <td>735.0</td>\n    </tr>\n    <tr>\n      <th>...</th>\n      <td>...</td>\n      <td>...</td>\n      <td>...</td>\n      <td>...</td>\n      <td>...</td>\n      <td>...</td>\n      <td>...</td>\n      <td>...</td>\n      <td>...</td>\n      <td>...</td>\n      <td>...</td>\n      <td>...</td>\n      <td>...</td>\n      <td>...</td>\n    </tr>\n    <tr>\n      <th>173</th>\n      <td>b'3'</td>\n      <td>13.71</td>\n      <td>5.65</td>\n      <td>2.45</td>\n      <td>20.5</td>\n      <td>95.0</td>\n      <td>1.68</td>\n      <td>0.61</td>\n      <td>0.52</td>\n      <td>1.06</td>\n      <td>7.70</td>\n      <td>0.64</td>\n      <td>1.74</td>\n      <td>740.0</td>\n    </tr>\n    <tr>\n      <th>174</th>\n      <td>b'3'</td>\n      <td>13.40</td>\n      <td>3.91</td>\n      <td>2.48</td>\n      <td>23.0</td>\n      <td>102.0</td>\n      <td>1.80</td>\n      <td>0.75</td>\n      <td>0.43</td>\n      <td>1.41</td>\n      <td>7.30</td>\n      <td>0.70</td>\n      <td>1.56</td>\n      <td>750.0</td>\n    </tr>\n    <tr>\n      <th>175</th>\n      <td>b'3'</td>\n      <td>13.27</td>\n      <td>4.28</td>\n      <td>2.26</td>\n      <td>20.0</td>\n      <td>120.0</td>\n      <td>1.59</td>\n      <td>0.69</td>\n      <td>0.43</td>\n      <td>1.35</td>\n      <td>10.20</td>\n      <td>0.59</td>\n      <td>1.56</td>\n      <td>835.0</td>\n    </tr>\n    <tr>\n      <th>176</th>\n      <td>b'3'</td>\n      <td>13.17</td>\n      <td>2.59</td>\n      <td>2.37</td>\n      <td>20.0</td>\n      <td>120.0</td>\n      <td>1.65</td>\n      <td>0.68</td>\n      <td>0.53</td>\n      <td>1.46</td>\n      <td>9.30</td>\n      <td>0.60</td>\n      <td>1.62</td>\n      <td>840.0</td>\n    </tr>\n    <tr>\n      <th>177</th>\n      <td>b'3'</td>\n      <td>14.13</td>\n      <td>4.10</td>\n      <td>2.74</td>\n      <td>24.5</td>\n      <td>96.0</td>\n      <td>2.05</td>\n      <td>0.76</td>\n      <td>0.56</td>\n      <td>1.35</td>\n      <td>9.20</td>\n      <td>0.61</td>\n      <td>1.60</td>\n      <td>560.0</td>\n    </tr>\n  </tbody>\n</table>\n<p>178 rows × 14 columns</p>\n</div>"
     },
     "execution_count": 2,
     "metadata": {},
     "output_type": "execute_result"
    }
   ],
   "source": [
    "data = loadarff('data/raw/dataset_191_wine.arff')\n",
    "df = pd.DataFrame(data[0])\n",
    "df"
   ],
   "metadata": {
    "collapsed": false,
    "pycharm": {
     "name": "#%%\n"
    }
   }
  },
  {
   "cell_type": "code",
   "execution_count": 3,
   "outputs": [
    {
     "data": {
      "text/plain": "class                             0\nAlcohol                           0\nMalic_acid                        0\nAsh                               0\nAlcalinity_of_ash                 0\nMagnesium                         0\nTotal_phenols                     0\nFlavanoids                        0\nNonflavanoid_phenols              0\nProanthocyanins                   0\nColor_intensity                   0\nHue                               0\nOD280%2FOD315_of_diluted_wines    0\nProline                           0\ndtype: int64"
     },
     "execution_count": 3,
     "metadata": {},
     "output_type": "execute_result"
    }
   ],
   "source": [
    "df.isna().sum()"
   ],
   "metadata": {
    "collapsed": false,
    "pycharm": {
     "name": "#%%\n"
    }
   }
  },
  {
   "cell_type": "code",
   "execution_count": 4,
   "outputs": [],
   "source": [
    "def col_to_list(df_c, mapper, name, default = 0):\n",
    "    return list(map(lambda x: mapper.get(x, default), df_c[name].values.tolist()))"
   ],
   "metadata": {
    "collapsed": false,
    "pycharm": {
     "name": "#%%\n"
    }
   }
  },
  {
   "cell_type": "code",
   "execution_count": 5,
   "outputs": [],
   "source": [
    "mapper_oh = {\n",
    "    b'1': np.array([0., 0., 1.]),\n",
    "    b'2': np.array([0., 1., 0.]),\n",
    "    b'3': np.array([1., 0., 0.])\n",
    "}"
   ],
   "metadata": {
    "collapsed": false,
    "pycharm": {
     "name": "#%%\n"
    }
   }
  },
  {
   "cell_type": "code",
   "execution_count": 6,
   "outputs": [
    {
     "data": {
      "text/plain": "               class  Alcohol  Malic_acid   Ash  Alcalinity_of_ash  Magnesium  \\\n0    [0.0, 0.0, 1.0]    14.23        1.71  2.43               15.6      127.0   \n1    [0.0, 0.0, 1.0]    13.20        1.78  2.14               11.2      100.0   \n2    [0.0, 0.0, 1.0]    13.16        2.36  2.67               18.6      101.0   \n3    [0.0, 0.0, 1.0]    14.37        1.95  2.50               16.8      113.0   \n4    [0.0, 0.0, 1.0]    13.24        2.59  2.87               21.0      118.0   \n..               ...      ...         ...   ...                ...        ...   \n173  [1.0, 0.0, 0.0]    13.71        5.65  2.45               20.5       95.0   \n174  [1.0, 0.0, 0.0]    13.40        3.91  2.48               23.0      102.0   \n175  [1.0, 0.0, 0.0]    13.27        4.28  2.26               20.0      120.0   \n176  [1.0, 0.0, 0.0]    13.17        2.59  2.37               20.0      120.0   \n177  [1.0, 0.0, 0.0]    14.13        4.10  2.74               24.5       96.0   \n\n     Total_phenols  Flavanoids  Nonflavanoid_phenols  Proanthocyanins  \\\n0             2.80        3.06                  0.28             2.29   \n1             2.65        2.76                  0.26             1.28   \n2             2.80        3.24                  0.30             2.81   \n3             3.85        3.49                  0.24             2.18   \n4             2.80        2.69                  0.39             1.82   \n..             ...         ...                   ...              ...   \n173           1.68        0.61                  0.52             1.06   \n174           1.80        0.75                  0.43             1.41   \n175           1.59        0.69                  0.43             1.35   \n176           1.65        0.68                  0.53             1.46   \n177           2.05        0.76                  0.56             1.35   \n\n     Color_intensity   Hue  OD280%2FOD315_of_diluted_wines  Proline  \n0               5.64  1.04                            3.92   1065.0  \n1               4.38  1.05                            3.40   1050.0  \n2               5.68  1.03                            3.17   1185.0  \n3               7.80  0.86                            3.45   1480.0  \n4               4.32  1.04                            2.93    735.0  \n..               ...   ...                             ...      ...  \n173             7.70  0.64                            1.74    740.0  \n174             7.30  0.70                            1.56    750.0  \n175            10.20  0.59                            1.56    835.0  \n176             9.30  0.60                            1.62    840.0  \n177             9.20  0.61                            1.60    560.0  \n\n[178 rows x 14 columns]",
      "text/html": "<div>\n<style scoped>\n    .dataframe tbody tr th:only-of-type {\n        vertical-align: middle;\n    }\n\n    .dataframe tbody tr th {\n        vertical-align: top;\n    }\n\n    .dataframe thead th {\n        text-align: right;\n    }\n</style>\n<table border=\"1\" class=\"dataframe\">\n  <thead>\n    <tr style=\"text-align: right;\">\n      <th></th>\n      <th>class</th>\n      <th>Alcohol</th>\n      <th>Malic_acid</th>\n      <th>Ash</th>\n      <th>Alcalinity_of_ash</th>\n      <th>Magnesium</th>\n      <th>Total_phenols</th>\n      <th>Flavanoids</th>\n      <th>Nonflavanoid_phenols</th>\n      <th>Proanthocyanins</th>\n      <th>Color_intensity</th>\n      <th>Hue</th>\n      <th>OD280%2FOD315_of_diluted_wines</th>\n      <th>Proline</th>\n    </tr>\n  </thead>\n  <tbody>\n    <tr>\n      <th>0</th>\n      <td>[0.0, 0.0, 1.0]</td>\n      <td>14.23</td>\n      <td>1.71</td>\n      <td>2.43</td>\n      <td>15.6</td>\n      <td>127.0</td>\n      <td>2.80</td>\n      <td>3.06</td>\n      <td>0.28</td>\n      <td>2.29</td>\n      <td>5.64</td>\n      <td>1.04</td>\n      <td>3.92</td>\n      <td>1065.0</td>\n    </tr>\n    <tr>\n      <th>1</th>\n      <td>[0.0, 0.0, 1.0]</td>\n      <td>13.20</td>\n      <td>1.78</td>\n      <td>2.14</td>\n      <td>11.2</td>\n      <td>100.0</td>\n      <td>2.65</td>\n      <td>2.76</td>\n      <td>0.26</td>\n      <td>1.28</td>\n      <td>4.38</td>\n      <td>1.05</td>\n      <td>3.40</td>\n      <td>1050.0</td>\n    </tr>\n    <tr>\n      <th>2</th>\n      <td>[0.0, 0.0, 1.0]</td>\n      <td>13.16</td>\n      <td>2.36</td>\n      <td>2.67</td>\n      <td>18.6</td>\n      <td>101.0</td>\n      <td>2.80</td>\n      <td>3.24</td>\n      <td>0.30</td>\n      <td>2.81</td>\n      <td>5.68</td>\n      <td>1.03</td>\n      <td>3.17</td>\n      <td>1185.0</td>\n    </tr>\n    <tr>\n      <th>3</th>\n      <td>[0.0, 0.0, 1.0]</td>\n      <td>14.37</td>\n      <td>1.95</td>\n      <td>2.50</td>\n      <td>16.8</td>\n      <td>113.0</td>\n      <td>3.85</td>\n      <td>3.49</td>\n      <td>0.24</td>\n      <td>2.18</td>\n      <td>7.80</td>\n      <td>0.86</td>\n      <td>3.45</td>\n      <td>1480.0</td>\n    </tr>\n    <tr>\n      <th>4</th>\n      <td>[0.0, 0.0, 1.0]</td>\n      <td>13.24</td>\n      <td>2.59</td>\n      <td>2.87</td>\n      <td>21.0</td>\n      <td>118.0</td>\n      <td>2.80</td>\n      <td>2.69</td>\n      <td>0.39</td>\n      <td>1.82</td>\n      <td>4.32</td>\n      <td>1.04</td>\n      <td>2.93</td>\n      <td>735.0</td>\n    </tr>\n    <tr>\n      <th>...</th>\n      <td>...</td>\n      <td>...</td>\n      <td>...</td>\n      <td>...</td>\n      <td>...</td>\n      <td>...</td>\n      <td>...</td>\n      <td>...</td>\n      <td>...</td>\n      <td>...</td>\n      <td>...</td>\n      <td>...</td>\n      <td>...</td>\n      <td>...</td>\n    </tr>\n    <tr>\n      <th>173</th>\n      <td>[1.0, 0.0, 0.0]</td>\n      <td>13.71</td>\n      <td>5.65</td>\n      <td>2.45</td>\n      <td>20.5</td>\n      <td>95.0</td>\n      <td>1.68</td>\n      <td>0.61</td>\n      <td>0.52</td>\n      <td>1.06</td>\n      <td>7.70</td>\n      <td>0.64</td>\n      <td>1.74</td>\n      <td>740.0</td>\n    </tr>\n    <tr>\n      <th>174</th>\n      <td>[1.0, 0.0, 0.0]</td>\n      <td>13.40</td>\n      <td>3.91</td>\n      <td>2.48</td>\n      <td>23.0</td>\n      <td>102.0</td>\n      <td>1.80</td>\n      <td>0.75</td>\n      <td>0.43</td>\n      <td>1.41</td>\n      <td>7.30</td>\n      <td>0.70</td>\n      <td>1.56</td>\n      <td>750.0</td>\n    </tr>\n    <tr>\n      <th>175</th>\n      <td>[1.0, 0.0, 0.0]</td>\n      <td>13.27</td>\n      <td>4.28</td>\n      <td>2.26</td>\n      <td>20.0</td>\n      <td>120.0</td>\n      <td>1.59</td>\n      <td>0.69</td>\n      <td>0.43</td>\n      <td>1.35</td>\n      <td>10.20</td>\n      <td>0.59</td>\n      <td>1.56</td>\n      <td>835.0</td>\n    </tr>\n    <tr>\n      <th>176</th>\n      <td>[1.0, 0.0, 0.0]</td>\n      <td>13.17</td>\n      <td>2.59</td>\n      <td>2.37</td>\n      <td>20.0</td>\n      <td>120.0</td>\n      <td>1.65</td>\n      <td>0.68</td>\n      <td>0.53</td>\n      <td>1.46</td>\n      <td>9.30</td>\n      <td>0.60</td>\n      <td>1.62</td>\n      <td>840.0</td>\n    </tr>\n    <tr>\n      <th>177</th>\n      <td>[1.0, 0.0, 0.0]</td>\n      <td>14.13</td>\n      <td>4.10</td>\n      <td>2.74</td>\n      <td>24.5</td>\n      <td>96.0</td>\n      <td>2.05</td>\n      <td>0.76</td>\n      <td>0.56</td>\n      <td>1.35</td>\n      <td>9.20</td>\n      <td>0.61</td>\n      <td>1.60</td>\n      <td>560.0</td>\n    </tr>\n  </tbody>\n</table>\n<p>178 rows × 14 columns</p>\n</div>"
     },
     "execution_count": 6,
     "metadata": {},
     "output_type": "execute_result"
    }
   ],
   "source": [
    "dataset_one_hot = df.copy()\n",
    "dataset_one_hot['class'] = col_to_list(df, mapper_oh, 'class', default=[0.,0.,1.])\n",
    "dataset_one_hot"
   ],
   "metadata": {
    "collapsed": false,
    "pycharm": {
     "name": "#%%\n"
    }
   }
  },
  {
   "cell_type": "code",
   "execution_count": 7,
   "outputs": [
    {
     "name": "stdout",
     "output_type": "stream",
     "text": [
      "[[array([0., 0., 1.]) 0.8421052631578949 0.191699604743083 ...\n",
      "  0.4552845528455285 0.9706959706959707 0.5613409415121255]\n",
      " [array([0., 0., 1.]) 0.5710526315789473 0.2055335968379447 ...\n",
      "  0.46341463414634154 0.7802197802197802 0.550641940085592]\n",
      " [array([0., 0., 1.]) 0.5605263157894738 0.3201581027667984 ...\n",
      "  0.4471544715447155 0.6959706959706959 0.6469329529243937]\n",
      " ...\n",
      " [array([1., 0., 0.]) 0.5894736842105263 0.699604743083004 ...\n",
      "  0.08943089430894308 0.10622710622710624 0.39728958630527816]\n",
      " [array([1., 0., 0.]) 0.5631578947368422 0.36561264822134387 ...\n",
      "  0.0975609756097561 0.12820512820512825 0.4008559201141227]\n",
      " [array([1., 0., 0.]) 0.8157894736842107 0.6640316205533596 ...\n",
      "  0.10569105691056911 0.12087912087912091 0.20114122681883023]]\n"
     ]
    }
   ],
   "source": [
    "ndata = min_max_normalization(dataset_one_hot, \"class\")\n",
    "print(ndata)"
   ],
   "metadata": {
    "collapsed": false,
    "pycharm": {
     "name": "#%%\n"
    }
   }
  },
  {
   "cell_type": "code",
   "execution_count": 8,
   "outputs": [],
   "source": [
    "def calculate_max_distances():\n",
    "    distances_res = {\"euclidean\": [], \"chebyshev\": [], \"manhattan\": []}\n",
    "    max_distance_res = {\"euclidean\": [], \"chebyshev\": [], \"manhattan\": []}\n",
    "\n",
    "    for metric in metrics.keys():\n",
    "        fun = metrics[metric]\n",
    "\n",
    "        for row in ndata:\n",
    "            local_distances = []\n",
    "            max_dist = float(\"-inf\")\n",
    "\n",
    "            for test in ndata:\n",
    "                cur_distance = fun(row[1:], test[1:])\n",
    "                max_dist = cur_distance if cur_distance > max_dist else max_dist\n",
    "                local_distances.append(cur_distance)\n",
    "\n",
    "            max_distance_res[metric].append(max_dist)\n",
    "            distances_res[metric].append(local_distances)\n",
    "\n",
    "        print(metric, \"calculated!\")\n",
    "    return distances_res, max_distance_res"
   ],
   "metadata": {
    "collapsed": false,
    "pycharm": {
     "name": "#%%\n"
    }
   }
  },
  {
   "cell_type": "code",
   "execution_count": 9,
   "outputs": [
    {
     "name": "stdout",
     "output_type": "stream",
     "text": [
      "euclidean calculated!\n",
      "chebyshev calculated!\n",
      "manhattan calculated!\n"
     ]
    }
   ],
   "source": [
    "distances, max_distance = calculate_max_distances()"
   ],
   "metadata": {
    "collapsed": false,
    "pycharm": {
     "name": "#%%\n"
    }
   }
  },
  {
   "cell_type": "code",
   "execution_count": 10,
   "outputs": [],
   "source": [
    "predict_fixed, predict_var = calculate_predictions(ndata, max_distance, distances)"
   ],
   "metadata": {
    "collapsed": false,
    "pycharm": {
     "name": "#%%\n"
    }
   }
  },
  {
   "cell_type": "code",
   "execution_count": 11,
   "outputs": [],
   "source": [
    "def generate_conf_matrix(metric_name, kernel_name, window, predicted):\n",
    "    matrix = [[0 for _ in range(3)] for _ in range(3)]\n",
    "    index = (kernel_name, metric_name, window)\n",
    "    current = predicted[index]\n",
    "    answers = ndata[:, 0]\n",
    "    for i in range(len(answers)):\n",
    "        index_pred = current[i].tolist().index(max(current[i].tolist()))\n",
    "        index_actual = answers[i].tolist().index(max(answers[i].tolist()))\n",
    "        matrix[index_pred][index_actual] += 1\n",
    "\n",
    "    for i in range(3):\n",
    "        matrix[i].reverse()\n",
    "\n",
    "    matrix.reverse()\n",
    "\n",
    "    return matrix"
   ],
   "metadata": {
    "collapsed": false,
    "pycharm": {
     "name": "#%%\n"
    }
   }
  },
  {
   "cell_type": "code",
   "execution_count": 12,
   "outputs": [],
   "source": [
    "def calculate_f_score():\n",
    "    f_fixed_res = {}\n",
    "    f_variable_res = {}\n",
    "\n",
    "    for kernel in kernels.keys():\n",
    "        for dist in metrics.keys():\n",
    "            index = (kernel, dist)\n",
    "            f_fixed_res[index] = ([], [])\n",
    "            f_variable_res[index] = ([], [])\n",
    "\n",
    "            max_d = max(max_distance[dist])\n",
    "            step = max_d / sqrt(len(ndata))\n",
    "            window = step\n",
    "            counter = 0\n",
    "            while window <= max_d:\n",
    "                matrix = generate_conf_matrix(dist, kernel, window, predict_fixed)\n",
    "                f_fixed_res[index][0].append(window)\n",
    "                counter += 1\n",
    "                f_fixed_res[index][1].append(f_macro(matrix, 1))\n",
    "                window += step\n",
    "            print(\"Fixed window calculated for\", kernel, dist, \"!\")\n",
    "\n",
    "            for window in range(1, int(sqrt(len(ndata)))):\n",
    "                matrix = generate_conf_matrix(dist, kernel, window, predict_var)\n",
    "                f_variable_res[index][0].append(window)\n",
    "                f_variable_res[index][1].append(f_macro(matrix, 1))\n",
    "            print(\"Variable window calculated for\", kernel, dist, \"!\")\n",
    "\n",
    "    return f_fixed_res, f_variable_res"
   ],
   "metadata": {
    "collapsed": false,
    "pycharm": {
     "name": "#%%\n"
    }
   }
  },
  {
   "cell_type": "code",
   "execution_count": 13,
   "outputs": [
    {
     "name": "stdout",
     "output_type": "stream",
     "text": [
      "Fixed window calculated for uniform euclidean !\n",
      "Variable window calculated for uniform euclidean !\n",
      "Fixed window calculated for uniform chebyshev !\n",
      "Variable window calculated for uniform chebyshev !\n",
      "Fixed window calculated for uniform manhattan !\n",
      "Variable window calculated for uniform manhattan !\n",
      "Fixed window calculated for triangular euclidean !\n",
      "Variable window calculated for triangular euclidean !\n",
      "Fixed window calculated for triangular chebyshev !\n",
      "Variable window calculated for triangular chebyshev !\n",
      "Fixed window calculated for triangular manhattan !\n",
      "Variable window calculated for triangular manhattan !\n",
      "Fixed window calculated for epanechnikov euclidean !\n",
      "Variable window calculated for epanechnikov euclidean !\n",
      "Fixed window calculated for epanechnikov chebyshev !\n",
      "Variable window calculated for epanechnikov chebyshev !\n",
      "Fixed window calculated for epanechnikov manhattan !\n",
      "Variable window calculated for epanechnikov manhattan !\n",
      "Fixed window calculated for quartic euclidean !\n",
      "Variable window calculated for quartic euclidean !\n",
      "Fixed window calculated for quartic chebyshev !\n",
      "Variable window calculated for quartic chebyshev !\n",
      "Fixed window calculated for quartic manhattan !\n",
      "Variable window calculated for quartic manhattan !\n"
     ]
    }
   ],
   "source": [
    "f_fixed, f_variable = calculate_f_score()"
   ],
   "metadata": {
    "collapsed": false,
    "pycharm": {
     "name": "#%%\n"
    }
   }
  },
  {
   "cell_type": "code",
   "execution_count": 14,
   "outputs": [],
   "source": [
    "def find_best_params(f_scores):\n",
    "    score_eu = float(\"-inf\")\n",
    "    score_ma = float(\"-inf\")\n",
    "    score_ch = float(\"-inf\")\n",
    "    max_score = float(\"-inf\")\n",
    "\n",
    "    best_res = ()\n",
    "    tup_eu = ()\n",
    "    tup_ma = ()\n",
    "    tup_ch = ()\n",
    "\n",
    "    for params in f_scores.keys():\n",
    "        current_score = max(f_scores[params][1])\n",
    "\n",
    "        if params[1] == 'euclidean':\n",
    "            if score_eu < current_score:\n",
    "                score_eu = current_score\n",
    "                tup_eu = params\n",
    "        elif params[1] == 'manhattan':\n",
    "            if score_ma < current_score:\n",
    "                score_ma = current_score\n",
    "                tup_ma = params\n",
    "        elif params[1] == 'chebyshev':\n",
    "            if score_ch < current_score:\n",
    "                score_ch = current_score\n",
    "                tup_ch = params\n",
    "\n",
    "        if max_score < current_score:\n",
    "            max_score = current_score\n",
    "            best_res = params\n",
    "\n",
    "    return best_res, tup_eu, tup_ma, tup_ch"
   ],
   "metadata": {
    "collapsed": false,
    "pycharm": {
     "name": "#%%\n"
    }
   }
  },
  {
   "cell_type": "code",
   "execution_count": 15,
   "outputs": [
    {
     "name": "stdout",
     "output_type": "stream",
     "text": [
      "Best: ('uniform', 'manhattan')\n",
      "Best kernel with euclidian: uniform\n",
      "Best kernel with manhattan: uniform\n",
      "Best kernel with chebyshev: uniform\n"
     ]
    },
    {
     "data": {
      "text/plain": "<Figure size 432x288 with 2 Axes>",
      "image/png": "[encoded data removed]"
     },
     "metadata": {
      "needs_background": "light"
     },
     "output_type": "display_data"
    }
   ],
   "source": [
    "best, euc, man, che = find_best_params(f_variable)\n",
    "\n",
    "print(\"Best:\", best)\n",
    "print(\"Best kernel with euclidian:\", euc[0])\n",
    "print(\"Best kernel with manhattan:\", man[0])\n",
    "print(\"Best kernel with chebyshev:\", che[0])\n",
    "\n",
    "record_best = f_variable[best]\n",
    "ano_record1 = f_variable[euc]\n",
    "ano_record2 = f_variable[man]\n",
    "ano_record3 = f_variable[che]\n",
    "\n",
    "plt.subplot(2, 1, 1)\n",
    "plt.ylabel('F-score')\n",
    "plt.suptitle(\"The best distance function:{dis} with the best kernel function:{ker}\".format(dis=best[1], ker=best[0]))\n",
    "\n",
    "plt.plot(list(ano_record1[0]), list(ano_record1[1]))\n",
    "plt.plot(list(ano_record2[0]), list(ano_record2[1]))\n",
    "plt.plot(list(ano_record3[0]), list(ano_record3[1]))\n",
    "\n",
    "plt.subplot(2, 1, 2)\n",
    "plt.xlabel('Window size')\n",
    "plt.ylabel('F-score')\n",
    "plt.plot(list(record_best[0]), list(record_best[1]))\n",
    "\n",
    "plt.show()"
   ],
   "metadata": {
    "collapsed": false,
    "pycharm": {
     "name": "#%%\n"
    }
   }
  },
  {
   "cell_type": "code",
   "execution_count": 16,
   "outputs": [
    {
     "name": "stdout",
     "output_type": "stream",
     "text": [
      "best: ('uniform', 'manhattan')\n",
      "best kernel with euclidian: triangular\n",
      "best kernel with manhattan: uniform\n",
      "best kernel with chebyshev: triangular\n"
     ]
    },
    {
     "data": {
      "text/plain": "<Figure size 432x288 with 2 Axes>",
      "image/png": "[encoded data removed]"
     },
     "metadata": {
      "needs_background": "light"
     },
     "output_type": "display_data"
    }
   ],
   "source": [
    "best, euc, man, che = find_best_params(f_fixed)\n",
    "\n",
    "print(\"best:\", best)\n",
    "print(\"best kernel with euclidian:\", euc[0])\n",
    "print(\"best kernel with manhattan:\", man[0])\n",
    "print(\"best kernel with chebyshev:\", che[0])\n",
    "\n",
    "record_best = f_fixed[best]\n",
    "ano_record1 = f_fixed[euc]\n",
    "ano_record2 = f_fixed[man]\n",
    "ano_record3 = f_fixed[che]\n",
    "\n",
    "plt.subplot(2, 1, 1)\n",
    "plt.ylabel('F-score')\n",
    "plt.suptitle(\"The best distance function:{dis} with the best kernel function:{ker}\".format(dis=best[1], ker=best[0]))\n",
    "\n",
    "plt.plot(list(ano_record1[0]), list(ano_record1[1]))\n",
    "plt.plot(list(ano_record2[0]), list(ano_record2[1]))\n",
    "plt.plot(list(ano_record3[0]), list(ano_record3[1]))\n",
    "\n",
    "plt.subplot(2, 1, 2)\n",
    "plt.xlabel('Window size')\n",
    "plt.ylabel('F-score')\n",
    "plt.plot(list(record_best[0]), list(record_best[1]))\n",
    "\n",
    "plt.show()"
   ],
   "metadata": {
    "collapsed": false,
    "pycharm": {
     "name": "#%%\n"
    }
   }
  }
 ],
 "metadata": {
  "kernelspec": {
   "display_name": "Python 3",
   "language": "python",
   "name": "python3"
  },
  "language_info": {
   "codemirror_mode": {
    "name": "ipython",
    "version": 2
   },
   "file_extension": ".py",
   "mimetype": "text/x-python",
   "name": "python",
   "nbconvert_exporter": "python",
   "pygments_lexer": "ipython2",
   "version": "2.7.6"
  }
 },
 "nbformat": 4,
 "nbformat_minor": 0
}